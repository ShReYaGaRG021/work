{
  "cells": [
    {
      "cell_type": "code",
      "execution_count": null,
      "metadata": {
        "id": "_DtQepPJ8u5Y"
      },
      "outputs": [],
      "source": [
        "import nltk\n",
        "import string\n",
        "import pandas as pd\n",
        "import re"
      ]
    },
    {
      "cell_type": "code",
      "execution_count": null,
      "metadata": {
        "id": "2GxXPPuI8x2k"
      },
      "outputs": [],
      "source": [
        "df = pd.read_csv(\"video_comments.csv\")"
      ]
    },
    {
      "cell_type": "code",
      "execution_count": null,
      "metadata": {
        "colab": {
          "base_uri": "https://localhost:8080/"
        },
        "id": "IzCG5vUR83X0",
        "outputId": "f26d62f2-af34-460e-9372-311d7df97acf"
      },
      "outputs": [
        {
          "name": "stdout",
          "output_type": "stream",
          "text": [
            "<class 'pandas.core.frame.DataFrame'>\n",
            "RangeIndex: 66 entries, 0 to 65\n",
            "Data columns (total 6 columns):\n",
            " #   Column      Non-Null Count  Dtype  \n",
            "---  ------      --------------  -----  \n",
            " 0   Unnamed: 0  66 non-null     int64  \n",
            " 1   Comment     66 non-null     object \n",
            " 2   Likes       66 non-null     int64  \n",
            " 3   Time        66 non-null     object \n",
            " 4   UserLink    1 non-null      object \n",
            " 5   user        0 non-null      float64\n",
            "dtypes: float64(1), int64(2), object(3)\n",
            "memory usage: 3.2+ KB\n"
          ]
        }
      ],
      "source": [
        "df.info()"
      ]
    },
    {
      "cell_type": "code",
      "execution_count": null,
      "metadata": {
        "id": "PvgVMRuN83pk"
      },
      "outputs": [],
      "source": [
        "x = df['Comment'].drop(columns=\"all\")"
      ]
    },
    {
      "cell_type": "code",
      "execution_count": null,
      "metadata": {
        "colab": {
          "base_uri": "https://localhost:8080/"
        },
        "id": "XYuVyuxt89Dd",
        "outputId": "2b1a5eb2-0cf6-4f03-ba08-0c9ddb6927cb"
      },
      "outputs": [
        {
          "name": "stdout",
          "output_type": "stream",
          "text": [
            "0     explore our free courses with completion certi...\n",
            "1     i'm learning artificial intelligence from my c...\n",
            "2     but if we're talking about artificial intellig...\n",
            "3     1. wall-e2. her3. metropolis (1927)4. 2001: a ...\n",
            "4     i really didn't even know about these ai movie...\n",
            "                            ...                        \n",
            "61    ex machinaa space oddesymetroposlishherwall-e\\...\n",
            "62                                           terminator\n",
            "63                                              i robot\n",
            "64    thanks for watching our video and sharing your...\n",
            "65    thanks for watching our video and sharing your...\n",
            "Name: Comment, Length: 66, dtype: object\n"
          ]
        }
      ],
      "source": [
        "x = x.apply(lambda x: x.lower())\n",
        "print(x)"
      ]
    },
    {
      "cell_type": "code",
      "execution_count": null,
      "metadata": {
        "id": "1L1mpUSj8-Oq"
      },
      "outputs": [],
      "source": [
        "import inflect\n",
        "q = inflect.engine()\n",
        "\n",
        "def convert_num(text):\n",
        "    temp_string = text.split()\n",
        "    new_str=[]\n",
        "    \n",
        "    for word in temp_string:\n",
        "        if word.isdigit():\n",
        "            temp=q.number_to_words(word)\n",
        "            new_str.append(temp)\n",
        "            \n",
        "        else:\n",
        "            new_str.append(word)\n",
        "     \n",
        "    temp_str = ' '.join(new_str)\n",
        "    return temp_str"
      ]
    },
    {
      "cell_type": "code",
      "execution_count": null,
      "metadata": {
        "colab": {
          "base_uri": "https://localhost:8080/"
        },
        "id": "qjvIfV3x9Acz",
        "outputId": "36560287-76ef-4c2d-cfcb-e9db5d514d77"
      },
      "outputs": [
        {
          "name": "stdout",
          "output_type": "stream",
          "text": [
            "0     explore our free courses with completion certi...\n",
            "1     i'm learning artificial intelligence from my c...\n",
            "2     but if we're talking about artificial intellig...\n",
            "3     1. wall-e2. her3. metropolis (1927)4. 2001: a ...\n",
            "4     i really didn't even know about these ai movie...\n",
            "                            ...                        \n",
            "61    ex machinaa space oddesymetroposlishherwall-e ...\n",
            "62                                           terminator\n",
            "63                                              i robot\n",
            "64    thanks for watching our video and sharing your...\n",
            "65    thanks for watching our video and sharing your...\n",
            "Name: Comment, Length: 66, dtype: object\n"
          ]
        }
      ],
      "source": [
        "x= x.apply(convert_num)\n",
        "print(x)"
      ]
    },
    {
      "cell_type": "code",
      "execution_count": null,
      "metadata": {
        "id": "Z3lCUFqp9CWT"
      },
      "outputs": [],
      "source": [
        "def rem_pun(text):\n",
        "    translator = str.maketrans('','', string.punctuation)\n",
        "    return text.translate(translator)\n",
        "x = x.apply(rem_pun)"
      ]
    },
    {
      "cell_type": "code",
      "execution_count": null,
      "metadata": {
        "colab": {
          "base_uri": "https://localhost:8080/"
        },
        "id": "RMm6LFTU9ELj",
        "outputId": "9d718922-5c9b-42b2-832f-a4d4ec213515"
      },
      "outputs": [
        {
          "data": {
            "text/plain": [
              "0     explore our free courses with completion certi...\n",
              "1     im learning artificial intelligence from my co...\n",
              "2     but if were talking about artificial intellige...\n",
              "3     1 walle2 her3 metropolis 19274 2001 a space od...\n",
              "4     i really didnt even know about these ai movies...\n",
              "                            ...                        \n",
              "61    ex machinaa space oddesymetroposlishherwalle i...\n",
              "62                                           terminator\n",
              "63                                              i robot\n",
              "64    thanks for watching our video and sharing your...\n",
              "65    thanks for watching our video and sharing your...\n",
              "Name: Comment, Length: 66, dtype: object"
            ]
          },
          "execution_count": 9,
          "metadata": {},
          "output_type": "execute_result"
        }
      ],
      "source": [
        "x"
      ]
    },
    {
      "cell_type": "code",
      "execution_count": null,
      "metadata": {
        "colab": {
          "base_uri": "https://localhost:8080/"
        },
        "id": "ig5vgE079FKb",
        "outputId": "f3c59967-5b31-422c-a253-9886bebdc9f6"
      },
      "outputs": [
        {
          "name": "stderr",
          "output_type": "stream",
          "text": [
            "[nltk_data] Downloading package stopwords to /root/nltk_data...\n",
            "[nltk_data]   Package stopwords is already up-to-date!\n",
            "[nltk_data] Downloading package punkt to /root/nltk_data...\n",
            "[nltk_data]   Package punkt is already up-to-date!\n"
          ]
        }
      ],
      "source": [
        "from nltk.corpus import stopwords\n",
        "from nltk.tokenize import word_tokenize\n",
        "\n",
        "nltk.download(\"stopwords\")\n",
        "nltk.download(\"punkt\")\n",
        "\n",
        "def remove_stopwords(text):\n",
        "    stop_words = set(stopwords.words(\"english\"))\n",
        "    word_tokens = word_tokenize(text)\n",
        "    filtered_text = [word for word in word_tokens if word not in stop_words]\n",
        "    return ' '.join(filtered_text)"
      ]
    },
    {
      "cell_type": "code",
      "execution_count": null,
      "metadata": {
        "id": "pOKViDb-9HH3"
      },
      "outputs": [],
      "source": [
        "x=x.apply(remove_stopwords)"
      ]
    },
    {
      "cell_type": "code",
      "execution_count": null,
      "metadata": {
        "colab": {
          "base_uri": "https://localhost:8080/"
        },
        "id": "v8MJ4_Ch9NoE",
        "outputId": "a7c8a885-f69b-450e-ac93-525eb663574a"
      },
      "outputs": [
        {
          "data": {
            "text/plain": [
              "0     explore free courses completion certificate ht...\n",
              "1     im learning artificial intelligence college he...\n",
              "2     talking artificial intelligence movies list1 m...\n",
              "3     1 walle2 her3 metropolis 19274 2001 space odys...\n",
              "4     really didnt even know ai movies thank u much ...\n",
              "                            ...                        \n",
              "61    ex machinaa space oddesymetroposlishherwalle w...\n",
              "62                                           terminator\n",
              "63                                                robot\n",
              "64    thanks watching video sharing thoughts subscri...\n",
              "65    thanks watching video sharing thoughts subscri...\n",
              "Name: Comment, Length: 66, dtype: object"
            ]
          },
          "execution_count": 12,
          "metadata": {},
          "output_type": "execute_result"
        }
      ],
      "source": [
        "x"
      ]
    },
    {
      "cell_type": "code",
      "execution_count": null,
      "metadata": {
        "colab": {
          "base_uri": "https://localhost:8080/",
          "height": 54
        },
        "id": "OpzSYV7W9Obb",
        "outputId": "bee6c28a-466c-42aa-c176-726097c41aba"
      },
      "outputs": [
        {
          "data": {
            "application/vnd.google.colaboratory.intrinsic+json": {
              "type": "string"
            },
            "text/plain": [
              "\"from nltk.stem.porter import PorterStemmer\\nfrom nltk.tokenize import word_tokenize\\nstem1 = PorterStemmer()\\n\\ndef stem_words(text):\\n  word_tokens = word_tokenize(text)\\n  stems = [stem1.stem(word) for word in word_tokens]\\n  return ' '.join(stems)\\n\\nx=x.apply(stem_words)\\nx\""
            ]
          },
          "execution_count": 13,
          "metadata": {},
          "output_type": "execute_result"
        }
      ],
      "source": [
        "#Stemming\n",
        "\"\"\"from nltk.stem.porter import PorterStemmer\n",
        "from nltk.tokenize import word_tokenize\n",
        "stem1 = PorterStemmer()\n",
        "\n",
        "def stem_words(text):\n",
        "  word_tokens = word_tokenize(text)\n",
        "  stems = [stem1.stem(word) for word in word_tokens]\n",
        "  return ' '.join(stems)\n",
        "\n",
        "x=x.apply(stem_words)\n",
        "x\"\"\""
      ]
    },
    {
      "cell_type": "code",
      "execution_count": null,
      "metadata": {
        "id": "WdHjhoGKAN5f"
      },
      "outputs": [],
      "source": [
        "# Lemmatization"
      ]
    },
    {
      "cell_type": "code",
      "execution_count": null,
      "metadata": {
        "colab": {
          "base_uri": "https://localhost:8080/"
        },
        "id": "S30tZ0dCAWsc",
        "outputId": "0850fb99-8741-4b18-ebf3-f4d2bdbf904b"
      },
      "outputs": [
        {
          "name": "stderr",
          "output_type": "stream",
          "text": [
            "[nltk_data] Downloading package wordnet to /root/nltk_data...\n",
            "[nltk_data]   Package wordnet is already up-to-date!\n"
          ]
        }
      ],
      "source": [
        "from nltk.stem import wordnet\n",
        "from nltk.tokenize import word_tokenize\n",
        "lemma = wordnet.WordNetLemmatizer()\n",
        "nltk.download('wordnet')\n",
        "\n",
        "def lemmatize_word(text):\n",
        "  word_tokens = word_tokenize(text)\n",
        "  lemmas = [lemma.lemmatize(word, pos='v') for word in word_tokens]\n",
        "  return ' '.join(lemmas)\n",
        "  "
      ]
    },
    {
      "cell_type": "code",
      "execution_count": null,
      "metadata": {
        "id": "HR_32EW0A38T"
      },
      "outputs": [],
      "source": [
        "x = x.apply(lemmatize_word)"
      ]
    },
    {
      "cell_type": "code",
      "execution_count": null,
      "metadata": {
        "colab": {
          "base_uri": "https://localhost:8080/"
        },
        "id": "JDKR7LALA_tg",
        "outputId": "7e02a396-77c8-44b4-d9ec-816f5112b9d7"
      },
      "outputs": [
        {
          "data": {
            "text/plain": [
              "0     explore free course completion certificate htt...\n",
              "1     im learn artificial intelligence college helpf...\n",
              "2     talk artificial intelligence movies list1 matr...\n",
              "3     1 walle2 her3 metropolis 19274 2001 space odys...\n",
              "4     really didnt even know ai movies thank u much ...\n",
              "                            ...                        \n",
              "61    ex machinaa space oddesymetroposlishherwalle w...\n",
              "62                                           terminator\n",
              "63                                                robot\n",
              "64    thank watch video share thoughts subscribe cha...\n",
              "65    thank watch video share thoughts subscribe cha...\n",
              "Name: Comment, Length: 66, dtype: object"
            ]
          },
          "execution_count": 17,
          "metadata": {},
          "output_type": "execute_result"
        }
      ],
      "source": [
        "x"
      ]
    },
    {
      "cell_type": "code",
      "execution_count": null,
      "metadata": {
        "colab": {
          "base_uri": "https://localhost:8080/",
          "height": 54
        },
        "id": "eB40ACYsBAw-",
        "outputId": "c0b9c827-b06d-4ce1-ba90-8f247063f3a5"
      },
      "outputs": [
        {
          "data": {
            "application/vnd.google.colaboratory.intrinsic+json": {
              "type": "string"
            },
            "text/plain": [
              "\"from nltk.tokenize import word_tokenize\\nfrom nltk import pos_tag\\nnltk.download('averaged_perceptron_tagger')\\n\\ndef pos_tagging(text):\\n  word_tokens = word_tokenize(text)\\n  return pos_tag(word_tokens)\""
            ]
          },
          "execution_count": 18,
          "metadata": {},
          "output_type": "execute_result"
        }
      ],
      "source": [
        "# POS Tagging\n",
        "\"\"\"from nltk.tokenize import word_tokenize\n",
        "from nltk import pos_tag\n",
        "nltk.download('averaged_perceptron_tagger')\n",
        "\n",
        "def pos_tagging(text):\n",
        "  word_tokens = word_tokenize(text)\n",
        "  return pos_tag(word_tokens)\"\"\""
      ]
    },
    {
      "cell_type": "code",
      "execution_count": null,
      "metadata": {
        "colab": {
          "base_uri": "https://localhost:8080/"
        },
        "id": "zHQu-4PsCNmy",
        "outputId": "e8a51e39-5c15-47d1-ede2-54b236eeaf8c"
      },
      "outputs": [
        {
          "data": {
            "text/plain": [
              "0     explore free course completion certificate htt...\n",
              "1     im learn artificial intelligence college helpf...\n",
              "2     talk artificial intelligence movies list1 matr...\n",
              "3     1 walle2 her3 metropolis 19274 2001 space odys...\n",
              "4     really didnt even know ai movies thank u much ...\n",
              "                            ...                        \n",
              "61    ex machinaa space oddesymetroposlishherwalle w...\n",
              "62                                           terminator\n",
              "63                                                robot\n",
              "64    thank watch video share thoughts subscribe cha...\n",
              "65    thank watch video share thoughts subscribe cha...\n",
              "Name: Comment, Length: 66, dtype: object"
            ]
          },
          "execution_count": 19,
          "metadata": {},
          "output_type": "execute_result"
        }
      ],
      "source": [
        "x"
      ]
    },
    {
      "cell_type": "code",
      "execution_count": null,
      "metadata": {
        "id": "yU-OcUKMIQQD"
      },
      "outputs": [],
      "source": [
        "from nltk.sentiment import SentimentIntensityAnalyzer\n",
        "\n",
        "sia = SentimentIntensityAnalyzer()\n",
        "x['Polarity_Score'] = x.apply(lambda x: sia.polarity_scores(x))"
      ]
    },
    {
      "cell_type": "code",
      "execution_count": null,
      "metadata": {
        "colab": {
          "base_uri": "https://localhost:8080/"
        },
        "id": "kr7X-NyDJMPk",
        "outputId": "e2d019bb-a655-4a75-d3d9-d8e6dcc27cd1"
      },
      "outputs": [
        {
          "data": {
            "text/plain": [
              "0     {'neg': 0.0, 'neu': 0.602, 'pos': 0.398, 'comp...\n",
              "1     {'neg': 0.0, 'neu': 0.439, 'pos': 0.561, 'comp...\n",
              "2     {'neg': 0.0, 'neu': 0.537, 'pos': 0.463, 'comp...\n",
              "3     {'neg': 0.0, 'neu': 1.0, 'pos': 0.0, 'compound...\n",
              "4     {'neg': 0.0, 'neu': 0.64, 'pos': 0.36, 'compou...\n",
              "                            ...                        \n",
              "61    {'neg': 0.0, 'neu': 1.0, 'pos': 0.0, 'compound...\n",
              "62    {'neg': 0.0, 'neu': 1.0, 'pos': 0.0, 'compound...\n",
              "63    {'neg': 0.0, 'neu': 1.0, 'pos': 0.0, 'compound...\n",
              "64    {'neg': 0.0, 'neu': 0.467, 'pos': 0.533, 'comp...\n",
              "65    {'neg': 0.0, 'neu': 0.467, 'pos': 0.533, 'comp...\n",
              "Name: Comment, Length: 66, dtype: object"
            ]
          },
          "execution_count": 21,
          "metadata": {},
          "output_type": "execute_result"
        }
      ],
      "source": [
        "x['Polarity_Score']"
      ]
    },
    {
      "cell_type": "code",
      "execution_count": null,
      "metadata": {
        "colab": {
          "base_uri": "https://localhost:8080/"
        },
        "id": "Fq1PQwgBKAf5",
        "outputId": "e0f0d1f8-fc1d-4eb1-8afe-8e012292a85c"
      },
      "outputs": [
        {
          "name": "stdout",
          "output_type": "stream",
          "text": [
            "The most common topic in the YouTube comments is: wall ai movies ex space interest 2001 artificial intelligence man\n"
          ]
        }
      ],
      "source": [
        "import re\n",
        "from nltk.sentiment import SentimentIntensityAnalyzer\n",
        "from sklearn.feature_extraction.text import CountVectorizer\n",
        "from sklearn.decomposition import LatentDirichletAllocation\n",
        "\n",
        "x = x.astype(str).str.replace(r'[^\\w\\s]', '', regex=True).str.encode('ascii', 'ignore').str.decode('utf-8')\n",
        "x = x.str.lower()\n",
        "\n",
        "vectorizer = CountVectorizer()\n",
        "\n",
        "X = vectorizer.fit_transform(x)\n",
        "\n",
        "lda = LatentDirichletAllocation(n_components=3, random_state=42)\n",
        "lda.fit(X)\n",
        "\n",
        "feature_names = vectorizer.get_feature_names_out()\n",
        "topic_keywords = []\n",
        "for topic_idx, topic in enumerate(lda.components_):\n",
        "    top_keywords = [feature_names[i] for i in topic.argsort()[:-10 - 1:-1]]\n",
        "    topic_keywords.append(top_keywords)\n",
        "\n",
        "# Find the most common topic\n",
        "topics = [' '.join(keywords) for keywords in topic_keywords]\n",
        "most_common_topic = max(set(topics), key=topics.count)\n",
        "\n",
        "print(f'The most common topic in the YouTube comments is: {most_common_topic}')"
      ]
    },
    {
      "cell_type": "code",
      "execution_count": null,
      "metadata": {
        "id": "IV0mn_JXTYlh"
      },
      "outputs": [],
      "source": []
    }
  ],
  "metadata": {
    "colab": {
      "provenance": []
    },
    "kernelspec": {
      "display_name": "Python 3",
      "name": "python3"
    },
    "language_info": {
      "name": "python"
    }
  },
  "nbformat": 4,
  "nbformat_minor": 0
}
