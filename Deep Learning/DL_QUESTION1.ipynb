{
  "nbformat": 4,
  "nbformat_minor": 0,
  "metadata": {
    "colab": {
      "provenance": []
    },
    "kernelspec": {
      "name": "python3",
      "display_name": "Python 3"
    },
    "language_info": {
      "name": "python"
    }
  },
  "cells": [
    {
      "cell_type": "code",
      "source": [
        "## LENET ARCHITECTURE OF CNN"
      ],
      "metadata": {
        "id": "zKED-h_f_ove"
      },
      "execution_count": 1,
      "outputs": []
    },
    {
      "cell_type": "code",
      "execution_count": 2,
      "metadata": {
        "id": "eRR3fs7F9ZE-"
      },
      "outputs": [],
      "source": [
        "import tensorflow as tf\n",
        "from tensorflow.keras.models import Sequential\n",
        "from tensorflow.keras.layers import Conv2D, AveragePooling2D, Flatten, Dense"
      ]
    },
    {
      "cell_type": "code",
      "source": [
        "# Load and preprocess the MNIST dataset\n",
        "(x_train, y_train), (x_test, y_test) = tf.keras.datasets.mnist.load_data()\n",
        "x_train = x_train.reshape(-1, 28, 28, 1).astype('float32') / 255.0\n",
        "x_test = x_test.reshape(-1, 28, 28, 1).astype('float32') / 255.0\n",
        "y_train = tf.keras.utils.to_categorical(y_train)\n",
        "y_test = tf.keras.utils.to_categorical(y_test)"
      ],
      "metadata": {
        "id": "bw_pJtXQ9cpb"
      },
      "execution_count": 3,
      "outputs": []
    },
    {
      "cell_type": "code",
      "source": [
        "# LeNet-5 architecture\n",
        "Lenet = Sequential()"
      ],
      "metadata": {
        "id": "YH5Ecm-q9eem"
      },
      "execution_count": 4,
      "outputs": []
    },
    {
      "cell_type": "code",
      "source": [
        "# Convolutional layers\n",
        "Lenet.add(Conv2D(filters=4, kernel_size=(3, 3), activation='relu', input_shape=(28, 28, 1)))\n",
        "Lenet.add(AveragePooling2D())\n",
        "Lenet.add(Conv2D(filters=8, kernel_size=(3, 3), activation='relu'))\n",
        "Lenet.add(AveragePooling2D())"
      ],
      "metadata": {
        "id": "RXK8MKIn9ge_"
      },
      "execution_count": 5,
      "outputs": []
    },
    {
      "cell_type": "code",
      "source": [
        "# Flatten the previous output\n",
        "Lenet.add(Flatten())"
      ],
      "metadata": {
        "id": "Ws2G6HuA9iA7"
      },
      "execution_count": 6,
      "outputs": []
    },
    {
      "cell_type": "code",
      "source": [
        "# Fully connected layers\n",
        "#model.add(Dense(units=80, activation='relu'))\n",
        "Lenet.add(Dense(units=28, activation='relu'))\n",
        "Lenet.add(Dense(units=10, activation='softmax'))  # 10 output classes for MNIST"
      ],
      "metadata": {
        "id": "CcFneMuh9jsw"
      },
      "execution_count": 7,
      "outputs": []
    },
    {
      "cell_type": "code",
      "source": [
        "# Compile the model\n",
        "Lenet.compile(loss='categorical_crossentropy', optimizer='adam', metrics=['accuracy'])"
      ],
      "metadata": {
        "id": "98Bd1jLx9lfR"
      },
      "execution_count": 8,
      "outputs": []
    },
    {
      "cell_type": "code",
      "source": [
        "# Train the model\n",
        "Lenet.fit(x_train, y_train, batch_size=128, epochs=10, validation_data=(x_test, y_test))"
      ],
      "metadata": {
        "colab": {
          "base_uri": "https://localhost:8080/"
        },
        "id": "1bN6YY2S9nJ_",
        "outputId": "a080e7df-d40f-4b40-dc85-302875838a8e"
      },
      "execution_count": 9,
      "outputs": [
        {
          "output_type": "stream",
          "name": "stdout",
          "text": [
            "Epoch 1/10\n",
            "469/469 [==============================] - 15s 30ms/step - loss: 0.6728 - accuracy: 0.7935 - val_loss: 0.2632 - val_accuracy: 0.9241\n",
            "Epoch 2/10\n",
            "469/469 [==============================] - 10s 22ms/step - loss: 0.2287 - accuracy: 0.9340 - val_loss: 0.1818 - val_accuracy: 0.9465\n",
            "Epoch 3/10\n",
            "469/469 [==============================] - 11s 24ms/step - loss: 0.1642 - accuracy: 0.9528 - val_loss: 0.1355 - val_accuracy: 0.9593\n",
            "Epoch 4/10\n",
            "469/469 [==============================] - 11s 24ms/step - loss: 0.1321 - accuracy: 0.9616 - val_loss: 0.1116 - val_accuracy: 0.9664\n",
            "Epoch 5/10\n",
            "469/469 [==============================] - 11s 23ms/step - loss: 0.1136 - accuracy: 0.9671 - val_loss: 0.0965 - val_accuracy: 0.9688\n",
            "Epoch 6/10\n",
            "469/469 [==============================] - 11s 24ms/step - loss: 0.1007 - accuracy: 0.9701 - val_loss: 0.0864 - val_accuracy: 0.9720\n",
            "Epoch 7/10\n",
            "469/469 [==============================] - 12s 25ms/step - loss: 0.0923 - accuracy: 0.9728 - val_loss: 0.0777 - val_accuracy: 0.9748\n",
            "Epoch 8/10\n",
            "469/469 [==============================] - 12s 25ms/step - loss: 0.0853 - accuracy: 0.9748 - val_loss: 0.0715 - val_accuracy: 0.9779\n",
            "Epoch 9/10\n",
            "469/469 [==============================] - 12s 26ms/step - loss: 0.0792 - accuracy: 0.9770 - val_loss: 0.0660 - val_accuracy: 0.9798\n",
            "Epoch 10/10\n",
            "469/469 [==============================] - 11s 24ms/step - loss: 0.0738 - accuracy: 0.9782 - val_loss: 0.0597 - val_accuracy: 0.9811\n"
          ]
        },
        {
          "output_type": "execute_result",
          "data": {
            "text/plain": [
              "<keras.callbacks.History at 0x7f74ea075000>"
            ]
          },
          "metadata": {},
          "execution_count": 9
        }
      ]
    },
    {
      "cell_type": "code",
      "source": [
        "# Evaluate the model\n",
        "_, test_accuracy = Lenet.evaluate(x_test, y_test)\n",
        "print(\"Test Accuracy:\", test_accuracy)"
      ],
      "metadata": {
        "colab": {
          "base_uri": "https://localhost:8080/"
        },
        "id": "8kliGJBK9ojN",
        "outputId": "f347a616-1651-44ef-d08d-84d5ff3d661d"
      },
      "execution_count": 10,
      "outputs": [
        {
          "output_type": "stream",
          "name": "stdout",
          "text": [
            "313/313 [==============================] - 1s 4ms/step - loss: 0.0597 - accuracy: 0.9811\n",
            "Test Accuracy: 0.9811000227928162\n"
          ]
        }
      ]
    },
    {
      "cell_type": "code",
      "source": [
        "Lenet.summary()"
      ],
      "metadata": {
        "colab": {
          "base_uri": "https://localhost:8080/"
        },
        "id": "drEcjQ5c9qZ2",
        "outputId": "b4c986b4-c7af-4d66-8d8c-3dc7f51751d2"
      },
      "execution_count": 11,
      "outputs": [
        {
          "output_type": "stream",
          "name": "stdout",
          "text": [
            "Model: \"sequential\"\n",
            "_________________________________________________________________\n",
            " Layer (type)                Output Shape              Param #   \n",
            "=================================================================\n",
            " conv2d (Conv2D)             (None, 26, 26, 4)         40        \n",
            "                                                                 \n",
            " average_pooling2d (AverageP  (None, 13, 13, 4)        0         \n",
            " ooling2D)                                                       \n",
            "                                                                 \n",
            " conv2d_1 (Conv2D)           (None, 11, 11, 8)         296       \n",
            "                                                                 \n",
            " average_pooling2d_1 (Averag  (None, 5, 5, 8)          0         \n",
            " ePooling2D)                                                     \n",
            "                                                                 \n",
            " flatten (Flatten)           (None, 200)               0         \n",
            "                                                                 \n",
            " dense (Dense)               (None, 28)                5628      \n",
            "                                                                 \n",
            " dense_1 (Dense)             (None, 10)                290       \n",
            "                                                                 \n",
            "=================================================================\n",
            "Total params: 6,254\n",
            "Trainable params: 6,254\n",
            "Non-trainable params: 0\n",
            "_________________________________________________________________\n"
          ]
        }
      ]
    },
    {
      "cell_type": "code",
      "source": [],
      "metadata": {
        "id": "QbPWv2vGNIIX"
      },
      "execution_count": 11,
      "outputs": []
    },
    {
      "cell_type": "code",
      "source": [
        "## ALEXNET ARCHITECTURE OF CNN"
      ],
      "metadata": {
        "id": "j7FTtJsX_hJD"
      },
      "execution_count": 12,
      "outputs": []
    },
    {
      "cell_type": "code",
      "source": [
        "import tensorflow as tf\n",
        "from tensorflow.keras.models import Sequential\n",
        "from tensorflow.keras.layers import Conv2D, MaxPooling2D, Flatten, Dense, Dropout"
      ],
      "metadata": {
        "id": "kfFrwINAM4FD"
      },
      "execution_count": 13,
      "outputs": []
    },
    {
      "cell_type": "code",
      "source": [
        "# Load and preprocess the MNIST dataset\n",
        "(x_train, y_train), (x_test, y_test) = tf.keras.datasets.mnist.load_data()\n",
        "x_train = x_train.reshape(-1, 28, 28, 1).astype('float32') / 255.0\n",
        "x_test = x_test.reshape(-1, 28, 28, 1).astype('float32') / 255.0\n",
        "y_train = tf.keras.utils.to_categorical(y_train)\n",
        "y_test = tf.keras.utils.to_categorical(y_test)"
      ],
      "metadata": {
        "id": "Tfip4jvPNKHE"
      },
      "execution_count": 14,
      "outputs": []
    },
    {
      "cell_type": "code",
      "source": [
        "# Modified AlexNet architecture\n",
        "Alexnet = Sequential()"
      ],
      "metadata": {
        "id": "TqncsgyqNNh6"
      },
      "execution_count": 15,
      "outputs": []
    },
    {
      "cell_type": "code",
      "source": [
        "# Convolutional layers\n",
        "Alexnet.add(Conv2D(filters=8, kernel_size=(3, 3), activation='relu', input_shape=(28, 28, 1)))\n",
        "Alexnet.add(MaxPooling2D(pool_size=(2, 2)))\n",
        "\n",
        "Alexnet.add(Conv2D(filters=16, kernel_size=(3, 3), activation='relu'))\n",
        "Alexnet.add(MaxPooling2D(pool_size=(2, 2)))"
      ],
      "metadata": {
        "id": "F0CtNv2tNQ0i"
      },
      "execution_count": 16,
      "outputs": []
    },
    {
      "cell_type": "code",
      "source": [
        "# Flatten the previous output\n",
        "Alexnet.add(Flatten())"
      ],
      "metadata": {
        "id": "1UzJn_cJNSxC"
      },
      "execution_count": 17,
      "outputs": []
    },
    {
      "cell_type": "code",
      "source": [
        "# Fully connected layers\n",
        "Alexnet.add(Dense(units=16, activation='relu'))\n",
        "Alexnet.add(Dropout(0.5))\n",
        "Alexnet.add(Dense(units=10, activation='softmax'))  # 10 output classes for MNIST"
      ],
      "metadata": {
        "id": "LV-im34aNUTq"
      },
      "execution_count": 18,
      "outputs": []
    },
    {
      "cell_type": "code",
      "source": [
        "# Compile the model\n",
        "Alexnet.compile(loss='categorical_crossentropy', optimizer='adam', metrics=['accuracy'])"
      ],
      "metadata": {
        "id": "C6RCmnTaNYmd"
      },
      "execution_count": 19,
      "outputs": []
    },
    {
      "cell_type": "code",
      "source": [
        "# Train the model\n",
        "Alexnet.fit(x_train, y_train, batch_size=128, epochs=10, validation_data=(x_test, y_test))"
      ],
      "metadata": {
        "colab": {
          "base_uri": "https://localhost:8080/"
        },
        "id": "mjfc7TBLNd8I",
        "outputId": "a06937c1-25a9-41ae-e78f-2b68e52cc5e9"
      },
      "execution_count": 20,
      "outputs": [
        {
          "output_type": "stream",
          "name": "stdout",
          "text": [
            "Epoch 1/10\n",
            "469/469 [==============================] - 13s 27ms/step - loss: 1.2878 - accuracy: 0.5360 - val_loss: 0.3478 - val_accuracy: 0.9313\n",
            "Epoch 2/10\n",
            "469/469 [==============================] - 13s 28ms/step - loss: 0.8308 - accuracy: 0.6975 - val_loss: 0.2030 - val_accuracy: 0.9522\n",
            "Epoch 3/10\n",
            "469/469 [==============================] - 13s 27ms/step - loss: 0.7539 - accuracy: 0.7208 - val_loss: 0.1666 - val_accuracy: 0.9625\n",
            "Epoch 4/10\n",
            "469/469 [==============================] - 13s 27ms/step - loss: 0.7049 - accuracy: 0.7384 - val_loss: 0.1453 - val_accuracy: 0.9659\n",
            "Epoch 5/10\n",
            "469/469 [==============================] - 13s 27ms/step - loss: 0.6722 - accuracy: 0.7490 - val_loss: 0.1153 - val_accuracy: 0.9705\n",
            "Epoch 6/10\n",
            "469/469 [==============================] - 13s 27ms/step - loss: 0.6517 - accuracy: 0.7551 - val_loss: 0.1065 - val_accuracy: 0.9723\n",
            "Epoch 7/10\n",
            "469/469 [==============================] - 12s 27ms/step - loss: 0.6150 - accuracy: 0.7700 - val_loss: 0.1021 - val_accuracy: 0.9740\n",
            "Epoch 8/10\n",
            "469/469 [==============================] - 13s 28ms/step - loss: 0.5624 - accuracy: 0.7909 - val_loss: 0.0956 - val_accuracy: 0.9747\n",
            "Epoch 9/10\n",
            "469/469 [==============================] - 13s 27ms/step - loss: 0.5434 - accuracy: 0.7980 - val_loss: 0.0920 - val_accuracy: 0.9763\n",
            "Epoch 10/10\n",
            "469/469 [==============================] - 12s 27ms/step - loss: 0.5318 - accuracy: 0.8036 - val_loss: 0.0972 - val_accuracy: 0.9749\n"
          ]
        },
        {
          "output_type": "execute_result",
          "data": {
            "text/plain": [
              "<keras.callbacks.History at 0x7f74e9db31c0>"
            ]
          },
          "metadata": {},
          "execution_count": 20
        }
      ]
    },
    {
      "cell_type": "code",
      "source": [
        "# Evaluate the model\n",
        "_, test_accuracy = Alexnet.evaluate(x_test, y_test)\n",
        "print(\"Test Accuracy:\", test_accuracy)"
      ],
      "metadata": {
        "colab": {
          "base_uri": "https://localhost:8080/"
        },
        "id": "-_TezQPyNgJW",
        "outputId": "5c270696-0587-4836-c24e-81ac87598cc1"
      },
      "execution_count": 21,
      "outputs": [
        {
          "output_type": "stream",
          "name": "stdout",
          "text": [
            "313/313 [==============================] - 1s 4ms/step - loss: 0.0972 - accuracy: 0.9749\n",
            "Test Accuracy: 0.9749000072479248\n"
          ]
        }
      ]
    },
    {
      "cell_type": "code",
      "source": [
        "Alexnet.summary()"
      ],
      "metadata": {
        "colab": {
          "base_uri": "https://localhost:8080/"
        },
        "id": "Cx5vxplON7gV",
        "outputId": "c7cbc6d1-e0c6-408e-bf61-cd12d3e13f3b"
      },
      "execution_count": 22,
      "outputs": [
        {
          "output_type": "stream",
          "name": "stdout",
          "text": [
            "Model: \"sequential_1\"\n",
            "_________________________________________________________________\n",
            " Layer (type)                Output Shape              Param #   \n",
            "=================================================================\n",
            " conv2d_2 (Conv2D)           (None, 26, 26, 8)         80        \n",
            "                                                                 \n",
            " max_pooling2d (MaxPooling2D  (None, 13, 13, 8)        0         \n",
            " )                                                               \n",
            "                                                                 \n",
            " conv2d_3 (Conv2D)           (None, 11, 11, 16)        1168      \n",
            "                                                                 \n",
            " max_pooling2d_1 (MaxPooling  (None, 5, 5, 16)         0         \n",
            " 2D)                                                             \n",
            "                                                                 \n",
            " flatten_1 (Flatten)         (None, 400)               0         \n",
            "                                                                 \n",
            " dense_2 (Dense)             (None, 16)                6416      \n",
            "                                                                 \n",
            " dropout (Dropout)           (None, 16)                0         \n",
            "                                                                 \n",
            " dense_3 (Dense)             (None, 10)                170       \n",
            "                                                                 \n",
            "=================================================================\n",
            "Total params: 7,834\n",
            "Trainable params: 7,834\n",
            "Non-trainable params: 0\n",
            "_________________________________________________________________\n"
          ]
        }
      ]
    },
    {
      "cell_type": "code",
      "source": [],
      "metadata": {
        "id": "GhhtplEHOY-9"
      },
      "execution_count": 22,
      "outputs": []
    },
    {
      "cell_type": "code",
      "source": [
        "## VGG ARCHITECTURE OF CNN"
      ],
      "metadata": {
        "id": "omxH0Th6USLM"
      },
      "execution_count": 23,
      "outputs": []
    },
    {
      "cell_type": "code",
      "source": [
        "import tensorflow as tf\n",
        "from tensorflow.keras.models import Sequential\n",
        "from tensorflow.keras.layers import Conv2D, MaxPooling2D, Flatten, Dense, Dropout"
      ],
      "metadata": {
        "id": "6nchgYQ6VIpQ"
      },
      "execution_count": 24,
      "outputs": []
    },
    {
      "cell_type": "code",
      "source": [
        "\n",
        "# Load and preprocess the MNIST dataset\n",
        "(x_train, y_train), (x_test, y_test) = tf.keras.datasets.mnist.load_data()\n",
        "x_train = x_train.reshape(-1, 28, 28, 1).astype('float32') / 255.0\n",
        "x_test = x_test.reshape(-1, 28, 28, 1).astype('float32') / 255.0\n",
        "y_train = tf.keras.utils.to_categorical(y_train)\n",
        "y_test = tf.keras.utils.to_categorical(y_test)\n",
        "\n"
      ],
      "metadata": {
        "id": "DoDBFXbioVU6"
      },
      "execution_count": 25,
      "outputs": []
    },
    {
      "cell_type": "code",
      "source": [
        "# Modified VGG-like architecture\n",
        "VGG = Sequential()"
      ],
      "metadata": {
        "id": "fdv-HF_FoYy5"
      },
      "execution_count": 26,
      "outputs": []
    },
    {
      "cell_type": "code",
      "source": [
        "# adding convolutional and other layers\n",
        "\n",
        "VGG.add(Conv2D(filters=4, kernel_size=(3, 3), activation='relu', padding='same', input_shape=(28, 28, 1)))\n",
        "#VGG.add(Conv2D(filters=4, kernel_size=(3, 3), activation='relu', padding='same'))\n",
        "VGG.add(MaxPooling2D(pool_size=(2, 2)))\n",
        "\n",
        "VGG.add(Conv2D(filters=8, kernel_size=(3, 3), activation='relu', padding='same'))\n",
        "VGG.add(Conv2D(filters=8, kernel_size=(3, 3), activation='relu', padding='same'))\n",
        "VGG.add(MaxPooling2D(pool_size=(2, 2)))\n",
        "\n",
        "VGG.add(Flatten())\n",
        "\n",
        "VGG.add(Dense(units=16, activation='relu'))\n",
        "VGG.add(Dropout(0.5))\n",
        "\n",
        "VGG.add(Dense(units=10, activation='softmax'))  # 10 output classes for MNIST\n"
      ],
      "metadata": {
        "id": "K2mNHxcxoZg4"
      },
      "execution_count": 27,
      "outputs": []
    },
    {
      "cell_type": "code",
      "source": [
        "# Compile the model\n",
        "VGG.compile(loss='categorical_crossentropy', optimizer='adam', metrics=['accuracy'])"
      ],
      "metadata": {
        "id": "hf8B0q1AoZ9L"
      },
      "execution_count": 28,
      "outputs": []
    },
    {
      "cell_type": "code",
      "source": [
        "# Train the model\n",
        "VGG.fit(x_train, y_train, batch_size=128, epochs=10, validation_data=(x_test, y_test))"
      ],
      "metadata": {
        "colab": {
          "base_uri": "https://localhost:8080/"
        },
        "id": "pxNSsSqKokTa",
        "outputId": "1e0f43b3-1093-40e9-dcf4-aa482706979b"
      },
      "execution_count": 29,
      "outputs": [
        {
          "output_type": "stream",
          "name": "stdout",
          "text": [
            "Epoch 1/10\n",
            "469/469 [==============================] - 20s 41ms/step - loss: 1.2700 - accuracy: 0.5216 - val_loss: 0.3589 - val_accuracy: 0.9239\n",
            "Epoch 2/10\n",
            "469/469 [==============================] - 18s 39ms/step - loss: 0.8451 - accuracy: 0.6773 - val_loss: 0.2261 - val_accuracy: 0.9469\n",
            "Epoch 3/10\n",
            "469/469 [==============================] - 19s 41ms/step - loss: 0.7663 - accuracy: 0.7063 - val_loss: 0.1801 - val_accuracy: 0.9588\n",
            "Epoch 4/10\n",
            "469/469 [==============================] - 19s 41ms/step - loss: 0.7252 - accuracy: 0.7161 - val_loss: 0.1549 - val_accuracy: 0.9630\n",
            "Epoch 5/10\n",
            "469/469 [==============================] - 19s 40ms/step - loss: 0.6801 - accuracy: 0.7365 - val_loss: 0.1416 - val_accuracy: 0.9646\n",
            "Epoch 6/10\n",
            "469/469 [==============================] - 20s 42ms/step - loss: 0.6350 - accuracy: 0.7535 - val_loss: 0.1274 - val_accuracy: 0.9659\n",
            "Epoch 7/10\n",
            "469/469 [==============================] - 20s 42ms/step - loss: 0.6118 - accuracy: 0.7581 - val_loss: 0.1184 - val_accuracy: 0.9697\n",
            "Epoch 8/10\n",
            "469/469 [==============================] - 19s 40ms/step - loss: 0.5978 - accuracy: 0.7650 - val_loss: 0.1115 - val_accuracy: 0.9697\n",
            "Epoch 9/10\n",
            "469/469 [==============================] - 19s 41ms/step - loss: 0.5882 - accuracy: 0.7679 - val_loss: 0.1058 - val_accuracy: 0.9717\n",
            "Epoch 10/10\n",
            "469/469 [==============================] - 18s 39ms/step - loss: 0.5851 - accuracy: 0.7696 - val_loss: 0.1025 - val_accuracy: 0.9700\n"
          ]
        },
        {
          "output_type": "execute_result",
          "data": {
            "text/plain": [
              "<keras.callbacks.History at 0x7f74ecf06830>"
            ]
          },
          "metadata": {},
          "execution_count": 29
        }
      ]
    },
    {
      "cell_type": "code",
      "source": [
        "# Evaluate the model\n",
        "_, test_accuracy = VGG.evaluate(x_test, y_test)\n",
        "print(\"Test Accuracy:\", test_accuracy)"
      ],
      "metadata": {
        "colab": {
          "base_uri": "https://localhost:8080/"
        },
        "id": "0amBOoWKomPH",
        "outputId": "77c2e589-6e52-4af0-ed19-74e9e8d25fa1"
      },
      "execution_count": 30,
      "outputs": [
        {
          "output_type": "stream",
          "name": "stdout",
          "text": [
            "313/313 [==============================] - 2s 6ms/step - loss: 0.1025 - accuracy: 0.9700\n",
            "Test Accuracy: 0.9700000286102295\n"
          ]
        }
      ]
    },
    {
      "cell_type": "code",
      "source": [
        "VGG.summary()"
      ],
      "metadata": {
        "colab": {
          "base_uri": "https://localhost:8080/"
        },
        "id": "Se23uvJfVJ7L",
        "outputId": "00b7a5cb-e18f-4b19-943e-fb9559b09c27"
      },
      "execution_count": 31,
      "outputs": [
        {
          "output_type": "stream",
          "name": "stdout",
          "text": [
            "Model: \"sequential_2\"\n",
            "_________________________________________________________________\n",
            " Layer (type)                Output Shape              Param #   \n",
            "=================================================================\n",
            " conv2d_4 (Conv2D)           (None, 28, 28, 4)         40        \n",
            "                                                                 \n",
            " max_pooling2d_2 (MaxPooling  (None, 14, 14, 4)        0         \n",
            " 2D)                                                             \n",
            "                                                                 \n",
            " conv2d_5 (Conv2D)           (None, 14, 14, 8)         296       \n",
            "                                                                 \n",
            " conv2d_6 (Conv2D)           (None, 14, 14, 8)         584       \n",
            "                                                                 \n",
            " max_pooling2d_3 (MaxPooling  (None, 7, 7, 8)          0         \n",
            " 2D)                                                             \n",
            "                                                                 \n",
            " flatten_2 (Flatten)         (None, 392)               0         \n",
            "                                                                 \n",
            " dense_4 (Dense)             (None, 16)                6288      \n",
            "                                                                 \n",
            " dropout_1 (Dropout)         (None, 16)                0         \n",
            "                                                                 \n",
            " dense_5 (Dense)             (None, 10)                170       \n",
            "                                                                 \n",
            "=================================================================\n",
            "Total params: 7,378\n",
            "Trainable params: 7,378\n",
            "Non-trainable params: 0\n",
            "_________________________________________________________________\n"
          ]
        }
      ]
    },
    {
      "cell_type": "code",
      "source": [
        "from tabulate import tabulate\n",
        "\n",
        "# Defining the architectures and their respective total parameters\n",
        "architectures = [\"Lenet\", \"AlexNet\", \"Modified VGG-16\"]\n",
        "total_params = [6254, 7834, 7378]\n",
        "accuracies = [\"98.11%\", \"97.49%\", \"97%\"]\n",
        "\n",
        "# Creating a list of lists to represent the table data\n",
        "table_data = []\n",
        "for i in range(len(architectures)):\n",
        "    table_data.append([architectures[i], total_params[i], accuracies[i]])\n",
        "\n",
        "# Define the headers for the table\n",
        "headers = [\"Architecture\", \"Total Parameters\", \"Accuracy\"]\n",
        "\n",
        "# Generate the table\n",
        "table = tabulate(table_data, headers, tablefmt=\"grid\")\n",
        "\n",
        "# Print the table\n",
        "print(table)\n"
      ],
      "metadata": {
        "colab": {
          "base_uri": "https://localhost:8080/"
        },
        "id": "P1kx3esbkhnX",
        "outputId": "6ad82367-ed61-40c2-86d3-d53ffc7e6349"
      },
      "execution_count": 32,
      "outputs": [
        {
          "output_type": "stream",
          "name": "stdout",
          "text": [
            "+-----------------+--------------------+------------+\n",
            "| Architecture    |   Total Parameters | Accuracy   |\n",
            "+=================+====================+============+\n",
            "| Lenet           |               6254 | 98.11%     |\n",
            "+-----------------+--------------------+------------+\n",
            "| AlexNet         |               7834 | 97.49%     |\n",
            "+-----------------+--------------------+------------+\n",
            "| Modified VGG-16 |               7378 | 97%        |\n",
            "+-----------------+--------------------+------------+\n"
          ]
        }
      ]
    },
    {
      "cell_type": "code",
      "source": [],
      "metadata": {
        "id": "tVw02dV4upZS"
      },
      "execution_count": null,
      "outputs": []
    }
  ]
}